{
 "cells": [
  {
   "cell_type": "markdown",
   "metadata": {},
   "source": [
    "#### Fundamentos de python\n",
    "* Variables\n",
    "* Operadores matematicos\n",
    "* Operadores logicos\n",
    "* Operadores de comparacion\n",
    "* estructuras de control\n",
    "  - Condicionales\n",
    "  - Ciclo finito: for\n",
    "  - Ciclo infinito: while\n",
    "  - Funciones\n",
    "* Estructuras de datos\n",
    "  - Cadens de caracteres: string\n",
    "  - Numero enteros\n",
    "  - Numero decimales\n",
    "  - Listas\n",
    "  - Diccionarios\n",
    "  - Tuplas"
   ]
  },
  {
   "cell_type": "code",
   "execution_count": null,
   "metadata": {},
   "outputs": [
    {
     "name": "stdout",
     "output_type": "stream",
     "text": [
      "Hola mundo\n"
     ]
    }
   ],
   "source": [
    "print(\"Hola mundo\")"
   ]
  },
  {
   "cell_type": "code",
   "execution_count": 3,
   "metadata": {},
   "outputs": [],
   "source": [
    "# variables\n",
    "name = \"Juan\"\n",
    "last_name = \"Perez\""
   ]
  },
  {
   "cell_type": "code",
   "execution_count": 4,
   "metadata": {},
   "outputs": [],
   "source": [
    "# mala practica\n",
    "Last_Name = \"Gomez\""
   ]
  },
  {
   "cell_type": "code",
   "execution_count": 5,
   "metadata": {},
   "outputs": [],
   "source": [
    "# mala practica\n",
    "LastName = \"Gomez\""
   ]
  },
  {
   "cell_type": "code",
   "execution_count": null,
   "metadata": {},
   "outputs": [],
   "source": [
    "last_name = \"Gomez\""
   ]
  },
  {
   "cell_type": "code",
   "execution_count": 7,
   "metadata": {},
   "outputs": [],
   "source": [
    "qwert = \"primero\""
   ]
  },
  {
   "cell_type": "code",
   "execution_count": 8,
   "metadata": {},
   "outputs": [],
   "source": [
    "NAME = \"Juan\""
   ]
  },
  {
   "cell_type": "code",
   "execution_count": 9,
   "metadata": {},
   "outputs": [],
   "source": [
    "# Operadores matematicos\n",
    "number_1 = 10\n",
    "number_2 = 5"
   ]
  },
  {
   "cell_type": "code",
   "execution_count": 11,
   "metadata": {},
   "outputs": [],
   "source": [
    "# Suma\n",
    "result = number_1 + number_2"
   ]
  },
  {
   "cell_type": "code",
   "execution_count": 12,
   "metadata": {},
   "outputs": [
    {
     "name": "stdout",
     "output_type": "stream",
     "text": [
      "15\n"
     ]
    }
   ],
   "source": [
    "print(result)"
   ]
  },
  {
   "cell_type": "code",
   "execution_count": 17,
   "metadata": {},
   "outputs": [],
   "source": [
    "# resta\n",
    "result_sub = number_1 - number_2"
   ]
  },
  {
   "cell_type": "code",
   "execution_count": 19,
   "metadata": {},
   "outputs": [],
   "source": [
    "# multiplicacion\n",
    "result_mult = number_1 * number_2\n",
    "\n",
    "# division\n",
    "result_div = number_1 / number_2"
   ]
  },
  {
   "cell_type": "code",
   "execution_count": 18,
   "metadata": {},
   "outputs": [
    {
     "name": "stdout",
     "output_type": "stream",
     "text": [
      "5\n"
     ]
    }
   ],
   "source": [
    "print(result_sub)"
   ]
  },
  {
   "cell_type": "code",
   "execution_count": 20,
   "metadata": {},
   "outputs": [
    {
     "data": {
      "text/plain": [
       "int"
      ]
     },
     "execution_count": 20,
     "metadata": {},
     "output_type": "execute_result"
    }
   ],
   "source": [
    "type(result_sub)"
   ]
  },
  {
   "cell_type": "code",
   "execution_count": 21,
   "metadata": {},
   "outputs": [
    {
     "data": {
      "text/plain": [
       "str"
      ]
     },
     "execution_count": 21,
     "metadata": {},
     "output_type": "execute_result"
    }
   ],
   "source": [
    "type(last_name)"
   ]
  },
  {
   "cell_type": "code",
   "execution_count": 22,
   "metadata": {},
   "outputs": [
    {
     "data": {
      "text/plain": [
       "'Perez'"
      ]
     },
     "execution_count": 22,
     "metadata": {},
     "output_type": "execute_result"
    }
   ],
   "source": [
    "last_name"
   ]
  },
  {
   "cell_type": "code",
   "execution_count": 23,
   "metadata": {},
   "outputs": [
    {
     "name": "stdout",
     "output_type": "stream",
     "text": [
      "Perez\n"
     ]
    }
   ],
   "source": [
    "print(last_name)"
   ]
  },
  {
   "cell_type": "code",
   "execution_count": 24,
   "metadata": {},
   "outputs": [],
   "source": [
    "# operadores de comparacion\n",
    "# == igual\n",
    "# != diferente\n",
    "# > mayor que\n",
    "# < menos que\n",
    "# >= mayor o igual que\n",
    "# <= menor o igual que"
   ]
  },
  {
   "cell_type": "code",
   "execution_count": 25,
   "metadata": {},
   "outputs": [],
   "source": [
    "# operadores booleanos\n",
    "# True\n",
    "# False"
   ]
  },
  {
   "cell_type": "code",
   "execution_count": 28,
   "metadata": {},
   "outputs": [
    {
     "data": {
      "text/plain": [
       "True"
      ]
     },
     "execution_count": 28,
     "metadata": {},
     "output_type": "execute_result"
    }
   ],
   "source": [
    "# ejemplos\n",
    "4 == 4"
   ]
  },
  {
   "cell_type": "code",
   "execution_count": 29,
   "metadata": {},
   "outputs": [
    {
     "data": {
      "text/plain": [
       "False"
      ]
     },
     "execution_count": 29,
     "metadata": {},
     "output_type": "execute_result"
    }
   ],
   "source": [
    "number_1 == number_2"
   ]
  },
  {
   "cell_type": "code",
   "execution_count": 30,
   "metadata": {},
   "outputs": [
    {
     "data": {
      "text/plain": [
       "True"
      ]
     },
     "execution_count": 30,
     "metadata": {},
     "output_type": "execute_result"
    }
   ],
   "source": [
    "number_1 > number_2"
   ]
  },
  {
   "cell_type": "code",
   "execution_count": 31,
   "metadata": {},
   "outputs": [
    {
     "data": {
      "text/plain": [
       "False"
      ]
     },
     "execution_count": 31,
     "metadata": {},
     "output_type": "execute_result"
    }
   ],
   "source": [
    "number_1 <= number_2"
   ]
  },
  {
   "cell_type": "code",
   "execution_count": 32,
   "metadata": {},
   "outputs": [
    {
     "name": "stdout",
     "output_type": "stream",
     "text": [
      "number_1 es mayor que number_2\n"
     ]
    }
   ],
   "source": [
    "# condicionales\n",
    "if number_1 > number_2:\n",
    "  print(\"number_1 es mayor que number_2\")"
   ]
  },
  {
   "cell_type": "code",
   "execution_count": 33,
   "metadata": {},
   "outputs": [
    {
     "ename": "SyntaxError",
     "evalue": "expected ':' (1365841634.py, line 2)",
     "output_type": "error",
     "traceback": [
      "\u001b[1;36m  Cell \u001b[1;32mIn[33], line 2\u001b[1;36m\u001b[0m\n\u001b[1;33m    if number_1 > number_2\u001b[0m\n\u001b[1;37m                          ^\u001b[0m\n\u001b[1;31mSyntaxError\u001b[0m\u001b[1;31m:\u001b[0m expected ':'\n"
     ]
    }
   ],
   "source": [
    "# condicionales\n",
    "if number_1 > number_2\n",
    "  print(\"number_1 es mayor que number_2\")"
   ]
  },
  {
   "cell_type": "code",
   "execution_count": 34,
   "metadata": {},
   "outputs": [
    {
     "ename": "IndentationError",
     "evalue": "expected an indented block after 'if' statement on line 2 (3500014868.py, line 3)",
     "output_type": "error",
     "traceback": [
      "\u001b[1;36m  Cell \u001b[1;32mIn[34], line 3\u001b[1;36m\u001b[0m\n\u001b[1;33m    print(\"number_1 es mayor que number_2\")\u001b[0m\n\u001b[1;37m    ^\u001b[0m\n\u001b[1;31mIndentationError\u001b[0m\u001b[1;31m:\u001b[0m expected an indented block after 'if' statement on line 2\n"
     ]
    }
   ],
   "source": [
    "# condicionales\n",
    "if number_1 > number_2:\n",
    "print(\"number_1 es mayor que number_2\")"
   ]
  },
  {
   "cell_type": "code",
   "execution_count": 35,
   "metadata": {},
   "outputs": [
    {
     "name": "stdout",
     "output_type": "stream",
     "text": [
      "number_1 es mayor que number_2\n"
     ]
    }
   ],
   "source": [
    "# condicionales\n",
    "if number_1 > number_2:\n",
    "  print(\"number_1 es mayor que number_2\")\n",
    "else:\n",
    "  print(\"number_1 es menor que number 2\")"
   ]
  },
  {
   "cell_type": "code",
   "execution_count": 37,
   "metadata": {},
   "outputs": [
    {
     "name": "stdout",
     "output_type": "stream",
     "text": [
      "number_1 es igual que number 2\n"
     ]
    }
   ],
   "source": [
    "# condicionales\n",
    "number_1 = 20\n",
    "number_2 = 20\n",
    "\n",
    "if number_1 > number_2:\n",
    "  print(\"number_1 es mayor que number_2\")\n",
    "elif number_1 < number_2:\n",
    "  print(\"number_1 es menor que number 2\")\n",
    "else:\n",
    "  print(\"number_1 es igual que number 2\")"
   ]
  },
  {
   "cell_type": "code",
   "execution_count": null,
   "metadata": {},
   "outputs": [
    {
     "name": "stdout",
     "output_type": "stream",
     "text": [
      "number_1 es mayor que number_2 y mayor que 10\n"
     ]
    }
   ],
   "source": [
    "# condicionales anidados\n",
    "number_1 = 20\n",
    "number_2 = 10\n",
    "\n",
    "if number_1 > number_2:\n",
    "  if number_1 > 10:\n",
    "    print(\"number_1 es mayor que number_2 y mayor que 10\")\n",
    "elif number_1 < number_2:\n",
    "  print(\"number_1 es menor que number 2\")\n",
    "else:\n",
    "  print(\"number_1 es igual que number 2\")"
   ]
  },
  {
   "cell_type": "code",
   "execution_count": 43,
   "metadata": {},
   "outputs": [
    {
     "name": "stdout",
     "output_type": "stream",
     "text": [
      "number_1 es mayor que number_2 y mayor que 10\n"
     ]
    }
   ],
   "source": [
    "# operadores logicos\n",
    "# and\n",
    "# or\n",
    "# not\n",
    "number_1 = 20\n",
    "number_2 = 5\n",
    "if (number_1 > number_2) and (number_1 > 10):\n",
    "  if number_1 > 10:\n",
    "    print(\"number_1 es mayor que number_2 y mayor que 10\")\n",
    "elif number_1 < number_2:\n",
    "  print(\"number_1 es menor que number 2\")\n",
    "else:\n",
    "  print(\"number_1 es igual que number 2\")"
   ]
  },
  {
   "cell_type": "code",
   "execution_count": null,
   "metadata": {},
   "outputs": [
    {
     "name": "stdout",
     "output_type": "stream",
     "text": [
      "20 es mayor que 5 y mayor que 10\n"
     ]
    }
   ],
   "source": [
    "# operadores logicos\n",
    "# and\n",
    "# or\n",
    "# not\n",
    "number_1 = 20\n",
    "number_2 = 5\n",
    "if (number_1 > number_2) and (number_1 > 10):\n",
    "  if number_1 > 10:\n",
    "    print(number_1, \"es mayor que\", number_2, \"y mayor que 10\")\n",
    "elif number_1 < number_2:\n",
    "  print(\"number_1 es menor que number_2\")\n",
    "else:\n",
    "  print(\"number_1 es igual que number_2\")"
   ]
  },
  {
   "cell_type": "code",
   "execution_count": null,
   "metadata": {},
   "outputs": [
    {
     "name": "stdout",
     "output_type": "stream",
     "text": [
      "J eligió: piedra\n",
      "L eligió: tijeras\n",
      "¡J gana!\n"
     ]
    }
   ],
   "source": [
    "# Función para obtener la elección del jugador\n",
    "def obtener_eleccion(jugador):\n",
    "    while True:\n",
    "        eleccion = input(f\"{jugador}, elige piedra, papel o tijeras: \").lower()\n",
    "        if eleccion in [\"piedra\", \"papel\", \"tijeras\"]:\n",
    "            return eleccion\n",
    "        else:\n",
    "            print(\"Opción no válida. Inténtalo de nuevo.\")\n",
    "\n",
    "# Función para determinar el ganador\n",
    "def determinar_ganador(jugador1, eleccion1, jugador2, eleccion2):\n",
    "    if eleccion1 == eleccion2:\n",
    "        return \"¡Es un empate!\"\n",
    "    elif (eleccion1 == \"piedra\" and eleccion2 == \"tijeras\") or \\\n",
    "         (eleccion1 == \"papel\" and eleccion2 == \"piedra\") or \\\n",
    "         (eleccion1 == \"tijeras\" and eleccion2 == \"papel\"):\n",
    "        return f\"¡{jugador1} gana!\"\n",
    "    else:\n",
    "        return f\"¡{jugador2} gana!\"\n",
    "\n",
    "# Solicitar nombres de los jugadores\n",
    "jugador1 = input(\"Ingresa el nombre del Jugador 1: \")\n",
    "jugador2 = input(\"Ingresa el nombre del Jugador 2: \")\n",
    "\n",
    "# Obtener las elecciones de los jugadores\n",
    "eleccion1 = obtener_eleccion(jugador1)\n",
    "eleccion2 = obtener_eleccion(jugador2)\n",
    "\n",
    "# Mostrar las elecciones\n",
    "print(f\"{jugador1} eligió: {eleccion1}\")\n",
    "print(f\"{jugador2} eligió: {eleccion2}\")\n",
    "\n",
    "# Determinar y mostrar el resultado\n",
    "resultado = determinar_ganador(jugador1, eleccion1, jugador2, eleccion2)\n",
    "print(resultado)"
   ]
  },
  {
   "cell_type": "markdown",
   "metadata": {},
   "source": [
    "### Estructuras de datos basicas"
   ]
  },
  {
   "cell_type": "code",
   "execution_count": 12,
   "metadata": {},
   "outputs": [],
   "source": [
    "# int\n",
    "# float\n",
    "# str\n",
    "# list\n",
    "              # 0       1       2      3\n",
    "              # -4     -3      -2     -1\n",
    "list_names = [\n",
    "  \"Juan\",\n",
    "  \"Pedro\",\n",
    "  \"Maria\",\n",
    "  \"Ana\"\n",
    "  ]\n"
   ]
  },
  {
   "cell_type": "code",
   "execution_count": 4,
   "metadata": {},
   "outputs": [
    {
     "data": {
      "text/plain": [
       "'Juan'"
      ]
     },
     "execution_count": 4,
     "metadata": {},
     "output_type": "execute_result"
    }
   ],
   "source": [
    "list_names[0]"
   ]
  },
  {
   "cell_type": "code",
   "execution_count": 8,
   "metadata": {},
   "outputs": [
    {
     "data": {
      "text/plain": [
       "'Maria'"
      ]
     },
     "execution_count": 8,
     "metadata": {},
     "output_type": "execute_result"
    }
   ],
   "source": [
    "list_names[2]"
   ]
  },
  {
   "cell_type": "code",
   "execution_count": null,
   "metadata": {},
   "outputs": [
    {
     "data": {
      "text/plain": [
       "['Juan', 'Pedro']"
      ]
     },
     "execution_count": 10,
     "metadata": {},
     "output_type": "execute_result"
    }
   ],
   "source": [
    "# slice de listas\n",
    "# [start:stop:step]\n",
    "list_names[:2]"
   ]
  },
  {
   "cell_type": "code",
   "execution_count": 11,
   "metadata": {},
   "outputs": [
    {
     "data": {
      "text/plain": [
       "['Pedro', 'Maria']"
      ]
     },
     "execution_count": 11,
     "metadata": {},
     "output_type": "execute_result"
    }
   ],
   "source": [
    "list_names[1:3]"
   ]
  },
  {
   "cell_type": "code",
   "execution_count": 13,
   "metadata": {},
   "outputs": [],
   "source": [
    "# list methods\n",
    "# append\n",
    "list_names.append(\"Carlos\")"
   ]
  },
  {
   "cell_type": "code",
   "execution_count": 14,
   "metadata": {},
   "outputs": [
    {
     "data": {
      "text/plain": [
       "['Juan', 'Pedro', 'Maria', 'Ana', 'Carlos']"
      ]
     },
     "execution_count": 14,
     "metadata": {},
     "output_type": "execute_result"
    }
   ],
   "source": [
    "list_names"
   ]
  },
  {
   "cell_type": "code",
   "execution_count": 15,
   "metadata": {},
   "outputs": [
    {
     "data": {
      "text/plain": [
       "'Juan'"
      ]
     },
     "execution_count": 15,
     "metadata": {},
     "output_type": "execute_result"
    }
   ],
   "source": [
    "list_names.pop(0)"
   ]
  },
  {
   "cell_type": "code",
   "execution_count": 16,
   "metadata": {},
   "outputs": [
    {
     "data": {
      "text/plain": [
       "['Pedro', 'Maria', 'Ana', 'Carlos']"
      ]
     },
     "execution_count": 16,
     "metadata": {},
     "output_type": "execute_result"
    }
   ],
   "source": [
    "list_names"
   ]
  },
  {
   "cell_type": "code",
   "execution_count": 17,
   "metadata": {},
   "outputs": [],
   "source": [
    "list_names.sort()"
   ]
  },
  {
   "cell_type": "code",
   "execution_count": 18,
   "metadata": {},
   "outputs": [
    {
     "data": {
      "text/plain": [
       "['Ana', 'Carlos', 'Maria', 'Pedro']"
      ]
     },
     "execution_count": 18,
     "metadata": {},
     "output_type": "execute_result"
    }
   ],
   "source": [
    "list_names"
   ]
  },
  {
   "cell_type": "code",
   "execution_count": 19,
   "metadata": {},
   "outputs": [
    {
     "data": {
      "text/plain": [
       "4"
      ]
     },
     "execution_count": 19,
     "metadata": {},
     "output_type": "execute_result"
    }
   ],
   "source": [
    "# longitud de una lista\n",
    "len(list_names)"
   ]
  },
  {
   "cell_type": "code",
   "execution_count": 20,
   "metadata": {},
   "outputs": [
    {
     "name": "stdout",
     "output_type": "stream",
     "text": [
      "Ana\n",
      "Carlos\n",
      "Maria\n",
      "Pedro\n"
     ]
    }
   ],
   "source": [
    "# ciclos for\n",
    "for name in list_names:\n",
    "  print(name)"
   ]
  },
  {
   "cell_type": "code",
   "execution_count": 23,
   "metadata": {},
   "outputs": [
    {
     "name": "stdout",
     "output_type": "stream",
     "text": [
      "Ana esta en la lista\n"
     ]
    }
   ],
   "source": [
    "# ciclos for\n",
    "for name in list_names:\n",
    "  # buscar el nombre ana en la lista en minusculas\n",
    "  if name.lower() == \"ana\":\n",
    "    print(\"Ana esta en la lista\")\n",
    "    break"
   ]
  },
  {
   "cell_type": "code",
   "execution_count": null,
   "metadata": {},
   "outputs": [],
   "source": []
  }
 ],
 "metadata": {
  "kernelspec": {
   "display_name": "Python 3",
   "language": "python",
   "name": "python3"
  },
  "language_info": {
   "codemirror_mode": {
    "name": "ipython",
    "version": 3
   },
   "file_extension": ".py",
   "mimetype": "text/x-python",
   "name": "python",
   "nbconvert_exporter": "python",
   "pygments_lexer": "ipython3",
   "version": "3.12.3"
  }
 },
 "nbformat": 4,
 "nbformat_minor": 2
}
